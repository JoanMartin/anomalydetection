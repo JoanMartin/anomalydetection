{
 "cells": [
  {
   "cell_type": "code",
   "execution_count": null,
   "metadata": {},
   "outputs": [
    {
     "data": {
      "text/html": [
       "\n",
       "    <div class=\"bk-root\">\n",
       "        <a href=\"https://bokeh.pydata.org\" target=\"_blank\" class=\"bk-logo bk-logo-small bk-logo-notebook\"></a>\n",
       "        <span id=\"9471cd67-424a-49da-b70d-c178efa5caad\">Loading BokehJS ...</span>\n",
       "    </div>"
      ]
     },
     "metadata": {},
     "output_type": "execute_result"
    },
    {
     "data": {},
     "metadata": {},
     "output_type": "display_data"
    }
   ],
   "source": [
    "## Common utils\n",
    "import numpy as np\n",
    "import json\n",
    "import time\n",
    "import pandas as pd\n",
    "import datetime\n",
    "\n",
    "# bokeh plotting utils\n",
    "from bokeh.models.sources import ColumnDataSource\n",
    "from bokeh.models import CDSView, BooleanFilter\n",
    "from bokeh.plotting import figure\n",
    "from bokeh.io import output_notebook, show, push_notebook\n",
    "\n",
    "# kafka utils\n",
    "from confluent_kafka import Consumer, KafkaError\n",
    "\n",
    "# show bokeh output in notebook\n",
    "output_notebook()"
   ]
  },
  {
   "cell_type": "code",
   "execution_count": 4,
   "metadata": {},
   "outputs": [],
   "source": [
    "## connect to kafka topic\n",
    "c = Consumer({'bootstrap.servers': '192.168.0.44:9092', 'group.id': 'mygroup',\n",
    "              'default.topic.config': {'auto.offset.reset': 'latest'}\n",
    "             })\n",
    "c.subscribe(['predict'])"
   ]
  },
  {
   "cell_type": "code",
   "execution_count": null,
   "metadata": {
    "scrolled": false
   },
   "outputs": [
    {
     "data": {
      "text/html": [
       "\n",
       "<div class=\"bk-root\">\n",
       "    <div class=\"bk-plotdiv\" id=\"b2815811-5984-4589-84b7-87ea3eec2c00\"></div>\n",
       "</div>"
      ]
     },
     "metadata": {},
     "output_type": "execute_result"
    },
    {
     "data": {},
     "metadata": {
      "application/vnd.bokehjs_exec.v0+json": {
       "id": "0eddaa16-a87d-407c-b53c-8ca979d969ea"
      }
     },
     "output_type": "display_data"
    }
   ],
   "source": [
    "def now():\n",
    "    return pd.to_datetime(datetime.datetime.now())\n",
    "\n",
    "# number of points to show\n",
    "n_show = 100\n",
    "\n",
    "## define figure aesthetics\n",
    "my_figure = figure(plot_width=900,\n",
    "                   plot_height=400,\n",
    "                   x_axis_type='datetime',\n",
    "                   tools=\"xpan,xwheel_zoom,xbox_zoom,reset\")\n",
    "\n",
    "# set streaming data source for plot\n",
    "data = ColumnDataSource(data=dict(ts=[],\n",
    "                                  value=[],\n",
    "                                  lower_limit=[],\n",
    "                                  upper_limit=[],\n",
    "                                  is_anomaly=[]))\n",
    "\n",
    "# Define lines to be plotted\n",
    "line_value = my_figure.line(\"ts\", \"value\", source=data, color='navy', alpha=0.5)\n",
    "line_lower = my_figure.line(\"ts\", \"lower_limit\", source=data, color='gray', alpha=0.5)\n",
    "line_upper = my_figure.line(\"ts\", \"upper_limit\", source=data, color='gray', alpha=0.5)\n",
    "point_anomaly = my_figure.circle(\"ts\", \"is_anomaly\", source=data, color='firebrick')\n",
    "\n",
    "handle = show(my_figure, notebook_handle=True)\n",
    "\n",
    "# Declare dictionary to be updated with the same structure than data\n",
    "new_data=dict(ts=[],\n",
    "              value=[],\n",
    "              lower_limit=[],\n",
    "              upper_limit=[],\n",
    "              is_anomaly=[])\n",
    "\n",
    "# Initialize list to containt new data as it arrives\n",
    "ts = []\n",
    "value = []\n",
    "lower_limit = []\n",
    "upper_limit = []\n",
    "is_anomaly = []\n",
    "\n",
    "# loop for kafka data collection and injection to plot\n",
    "running = True\n",
    "while running:\n",
    "    msg = c.poll()\n",
    "    if not msg.error():\n",
    "        response = json.loads(msg.value().decode('utf-8'))\n",
    "        ## update values ts, value\n",
    "        \n",
    "        ts.append(now())\n",
    "        value.append(response.get('value'))\n",
    "        lower_limit.append(response.get('results_anomaly').get('value_lower_limit'))\n",
    "        upper_limit.append(response.get('results_anomaly').get('value_upper_limit'))\n",
    "        tmp = response.get('results_anomaly').get('is_anomaly') * response.get('value') #hack to adapt value scale\n",
    "        is_anomaly.append(tmp)\n",
    "        \n",
    "        # prevent filling ram\n",
    "        new_data['ts'] = ts = ts[-n_show:]\n",
    "        new_data['value'] = value = value[-n_show:]\n",
    "        new_data['lower_limit'] = lower_limit = lower_limit[-n_show:]\n",
    "        new_data['upper_limit'] = upper_limit = upper_limit[-n_show:]\n",
    "        new_data['is_anomaly'] = is_anomaly = is_anomaly[-n_show:]\n",
    "        \n",
    "        ### plot\n",
    "        data.stream(new_data, n_show)\n",
    "        push_notebook(handle=handle)\n",
    "    \n",
    "    elif msg.error().code() != KafkaError._PARTITION_EOF:\n",
    "        print(msg.error())\n",
    "        running = False\n",
    "c.close()"
   ]
  },
  {
   "cell_type": "code",
   "execution_count": null,
   "metadata": {},
   "outputs": [],
   "source": []
  }
 ],
 "metadata": {
  "kernelspec": {
   "display_name": "Python 3",
   "language": "python",
   "name": "python3"
  },
  "language_info": {
   "codemirror_mode": {
    "name": "ipython",
    "version": 3
   },
   "file_extension": ".py",
   "mimetype": "text/x-python",
   "name": "python",
   "nbconvert_exporter": "python",
   "pygments_lexer": "ipython3",
   "version": "3.6.4"
  }
 },
 "nbformat": 4,
 "nbformat_minor": 2
}
