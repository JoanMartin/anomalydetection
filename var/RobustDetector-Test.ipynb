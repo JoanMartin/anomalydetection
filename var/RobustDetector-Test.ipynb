{
 "cells": [
  {
   "cell_type": "code",
   "execution_count": 4,
   "metadata": {
    "nbpresent": {
     "id": "986a2d15-a2a5-4bbb-af9b-20cd6c76a441"
    }
   },
   "outputs": [],
   "source": [
    "%matplotlib inline\n",
    "import sys\n",
    "import warnings\n",
    "import pandas as pd\n",
    "\n",
    "sys.path.append(\"../src/\")\n",
    "warnings.filterwarnings('ignore')\n"
   ]
  },
  {
   "cell_type": "code",
   "execution_count": 6,
   "metadata": {
    "nbpresent": {
     "id": "a5b35435-a169-4eb8-a220-6a057a984995"
    }
   },
   "outputs": [],
   "source": [
    "from anomalydetection.interactor.anomaly_detection_engine.base_engine import BaseEngine\n",
    "import numpy as np\n",
    "from statsmodels.robust.scale import mad\n",
    "import math\n",
    "\n",
    "class RobustDetector(BaseEngine):\n",
    "    \"\"\"Anomaly detection engine based in robust statistics: median and median absolute deviation\n",
    "    \"\"\"\n",
    "\n",
    "    def __init__(self, window=100):\n",
    "        \"\"\"Default values to be determined for the anomaly detection\"\"\"\n",
    "        self._data = np.full((window, 1), fill_value=np.nan)\n",
    "        self._median = None\n",
    "        self._mad = None\n",
    "\n",
    "    def _update_buffer(self, value):\n",
    "        \"\"\"Updates the buffered data with the new event.\n",
    "\n",
    "        Appends the event at the end of self._data and clears the first registry in a FIFO fashion.\n",
    "        Keeps the size of self._data constant.\n",
    "\n",
    "        Parameters\n",
    "        ----------\n",
    "        value: float\n",
    "            Value to be included in the last position of buffer.\n",
    "        \"\"\"\n",
    "        self._data[:-1] = self._data[1:]\n",
    "        self._data[-1] = value\n",
    "\n",
    "    def _update_statistics(self):\n",
    "        \"\"\"Updates the robust statistics based in the buffered data.\n",
    "        \"\"\"\n",
    "        self._median = np.median(self._data)\n",
    "        self._mad = mad(self._data)\n",
    "\n",
    "    def _update(self, value):\n",
    "        \"\"\"Updates the buffered data with the new event and the robust statistics.\n",
    "\n",
    "        Appends the event at the end of self._data and clears the first registry in a FIFO fashion.\n",
    "        Once the buffer is updated, updates the median and mad\n",
    "\n",
    "        Parameters\n",
    "        ----------\n",
    "        value: float\n",
    "            Value to be included in the last position of buffer.\n",
    "        \"\"\"\n",
    "        self._update_buffer(value=value)\n",
    "        self._update_statistics()\n",
    "\n",
    "    def predict(self, value):\n",
    "        \"\"\"\n",
    "        Return the probability of being an outlier\n",
    "\n",
    "        Calculates the probability of value being an anomaly with respect past events.\n",
    "        Once it has been computed, the buffer data is updated and the statistic parameters\n",
    "        recalculated.\n",
    "\n",
    "        Parameters\n",
    "        ----------\n",
    "        value: float\n",
    "            Value to be included in the last position of buffer.\n",
    "\n",
    "        Returns\n",
    "        ------\n",
    "        anomaly_probability: float\n",
    "            Probability that the value is an anomaly given the last observations.\n",
    "        \"\"\"\n",
    "        if np.isnan(self._data).any():\n",
    "            anomaly_probability = -1.\n",
    "        else:\n",
    "            z_score = np.abs(value - self._median) / self._mad*1.4786\n",
    "            anomaly_probability = 1 - 0.5 * math.erfc(z_score/math.sqrt(2))\n",
    "        self._update(value=value)\n",
    "        return anomaly_probability\n"
   ]
  },
  {
   "cell_type": "code",
   "execution_count": 7,
   "metadata": {
    "nbpresent": {
     "id": "9f695d4d-e1eb-4e3b-8b8c-af07b8f401b5"
    }
   },
   "outputs": [],
   "source": [
    "path = 'data.csv'\n",
    "df = pd.read_csv(path)"
   ]
  },
  {
   "cell_type": "code",
   "execution_count": 8,
   "metadata": {
    "nbpresent": {
     "id": "3618ecd7-86fe-4327-b0c9-8a137e9baadb"
    },
    "scrolled": true
   },
   "outputs": [
    {
     "data": {
      "text/plain": [
       "<matplotlib.axes._subplots.AxesSubplot at 0x7f17b8372cf8>"
      ]
     },
     "execution_count": 8,
     "metadata": {},
     "output_type": "execute_result"
    },
    {
     "data": {
      "image/png": "[encoded data removed]",
      "text/plain": [
       "<Figure size 432x288 with 1 Axes>"
      ]
     },
     "metadata": {},
     "output_type": "display_data"
    }
   ],
   "source": [
    "df.value.plot()"
   ]
  },
  {
   "cell_type": "code",
   "execution_count": 9,
   "metadata": {
    "nbpresent": {
     "id": "32093094-517b-4666-9fe9-f0a9acf1dab3"
    }
   },
   "outputs": [],
   "source": [
    "detector = RobustDetector(window=50)\n",
    "df['anomaly_score'] = 0"
   ]
  },
  {
   "cell_type": "code",
   "execution_count": 10,
   "metadata": {
    "nbpresent": {
     "id": "340464ba-040d-4e76-ad3f-37a43b508cb8"
    }
   },
   "outputs": [],
   "source": [
    "import numpy as np\n",
    "import time"
   ]
  },
  {
   "cell_type": "code",
   "execution_count": 11,
   "metadata": {
    "nbpresent": {
     "id": "448d0711-23be-4d3c-b787-965895d9202a"
    },
    "scrolled": true
   },
   "outputs": [
    {
     "name": "stdout",
     "output_type": "stream",
     "text": [
      "CPU times: user 50.4 s, sys: 36.9 ms, total: 50.4 s\n",
      "Wall time: 50.4 s\n"
     ]
    }
   ],
   "source": [
    "%%time\n",
    "times = np.zeros_like(df.value)\n",
    "for ix, value in enumerate(df.value):\n",
    "    now=time.time()\n",
    "    tmp = detector.predict(value)\n",
    "    times[ix] = time.time()-now\n",
    "    df['anomaly_score'].iloc[ix] = tmp"
   ]
  },
  {
   "cell_type": "code",
   "execution_count": 12,
   "metadata": {
    "nbpresent": {
     "id": "558549b9-1a87-46be-be4a-3d47739e0bf1"
    }
   },
   "outputs": [
    {
     "name": "stdout",
     "output_type": "stream",
     "text": [
      "0.288 ms\n"
     ]
    }
   ],
   "source": [
    "print(round(times.mean()*1e3, 3), 'ms')"
   ]
  },
  {
   "cell_type": "code",
   "execution_count": 33,
   "metadata": {
    "nbpresent": {
     "id": "2f4f9d00-ed97-4263-a199-a32da9a5d876"
    },
    "scrolled": false
   },
   "outputs": [
    {
     "data": {
      "text/plain": [
       "<matplotlib.axes._subplots.AxesSubplot at 0x7f95b6d80b38>"
      ]
     },
     "execution_count": 33,
     "metadata": {},
     "output_type": "execute_result"
    },
    {
     "data": {
      "image/png": "[encoded data removed]",
      "text/plain": [
       "<matplotlib.figure.Figure at 0x7f95b6d3b390>"
      ]
     },
     "metadata": {},
     "output_type": "display_data"
    }
   ],
   "source": [
    "th=1\n",
    "df[df['anomaly_score'] >= th]['value'].plot(style='r.')\n",
    "df['value'].plot()"
   ]
  },
  {
   "cell_type": "code",
   "execution_count": 16,
   "metadata": {},
   "outputs": [],
   "source": [
    "from streamz.dataframe import Random, DataFrame"
   ]
  },
  {
   "cell_type": "code",
   "execution_count": 17,
   "metadata": {},
   "outputs": [
    {
     "data": {
      "application/vnd.jupyter.widget-view+json": {
       "model_id": "ae240c60b4df48efbdfb1d05f93049c0",
       "version_major": 2,
       "version_minor": 0
      },
      "text/html": [
       "<p>Failed to display Jupyter Widget of type <code>Output</code>.</p>\n",
       "<p>\n",
       "  If you're reading this message in the Jupyter Notebook or JupyterLab Notebook, it may mean\n",
       "  that the widgets JavaScript is still loading. If this message persists, it\n",
       "  likely means that the widgets JavaScript library is either not installed or\n",
       "  not enabled. See the <a href=\"https://ipywidgets.readthedocs.io/en/stable/user_install.html\">Jupyter\n",
       "  Widgets Documentation</a> for setup instructions.\n",
       "</p>\n",
       "<p>\n",
       "  If you're reading this message in another frontend (for example, a static\n",
       "  rendering on GitHub or <a href=\"https://nbviewer.jupyter.org/\">NBViewer</a>),\n",
       "  it may mean that your frontend doesn't currently support widgets.\n",
       "</p>\n"
      ],
      "text/plain": [
       "Output()"
      ]
     },
     "metadata": {},
     "output_type": "display_data"
    }
   ],
   "source": [
    "source = Random(freq='5ms', interval='100ms')\n",
    "source.x.sum()\n",
    "\n"
   ]
  },
  {
   "cell_type": "code",
   "execution_count": 18,
   "metadata": {
    "scrolled": true
   },
   "outputs": [
    {
     "data": {
      "application/vnd.jupyter.widget-view+json": {
       "model_id": "b90f4a55d468409bbdfd95a20ad952c6",
       "version_major": 2,
       "version_minor": 0
      },
      "text/html": [
       "<p>Failed to display Jupyter Widget of type <code>Output</code>.</p>\n",
       "<p>\n",
       "  If you're reading this message in the Jupyter Notebook or JupyterLab Notebook, it may mean\n",
       "  that the widgets JavaScript is still loading. If this message persists, it\n",
       "  likely means that the widgets JavaScript library is either not installed or\n",
       "  not enabled. See the <a href=\"https://ipywidgets.readthedocs.io/en/stable/user_install.html\">Jupyter\n",
       "  Widgets Documentation</a> for setup instructions.\n",
       "</p>\n",
       "<p>\n",
       "  If you're reading this message in another frontend (for example, a static\n",
       "  rendering on GitHub or <a href=\"https://nbviewer.jupyter.org/\">NBViewer</a>),\n",
       "  it may mean that your frontend doesn't currently support widgets.\n",
       "</p>\n"
      ],
      "text/plain": [
       "Output()"
      ]
     },
     "metadata": {},
     "output_type": "display_data"
    }
   ],
   "source": [
    "sdf = (source - 0.5).cumsum()\n",
    "sdf.tail()"
   ]
  },
  {
   "cell_type": "code",
   "execution_count": 22,
   "metadata": {
    "scrolled": false
   },
   "outputs": [
    {
     "data": {
      "text/html": [
       "\n",
       "    <div class=\"bk-root\">\n",
       "        <a href=\"https://bokeh.pydata.org\" target=\"_blank\" class=\"bk-logo bk-logo-small bk-logo-notebook\"></a>\n",
       "        <span id=\"d37185b2-7e90-41f7-8e37-e6e3f603984e\">Loading BokehJS ...</span>\n",
       "    </div>"
      ]
     },
     "metadata": {},
     "output_type": "display_data"
    },
    {
     "data": {
      "application/javascript": [
       "\n",
       "(function(root) {\n",
       "  function now() {\n",
       "    return new Date();\n",
       "  }\n",
       "\n",
       "  var force = true;\n",
       "\n",
       "  if (typeof (root._bokeh_onload_callbacks) === \"undefined\" || force === true) {\n",
       "    root._bokeh_onload_callbacks = [];\n",
       "    root._bokeh_is_loading = undefined;\n",
       "  }\n",
       "\n",
       "  var JS_MIME_TYPE = 'application/javascript';\n",
       "  var HTML_MIME_TYPE = 'text/html';\n",
       "  var EXEC_MIME_TYPE = 'application/vnd.bokehjs_exec.v0+json';\n",
       "  var CLASS_NAME = 'output_bokeh rendered_html';\n",
       "\n",
       "  /**\n",
       "   * Render data to the DOM node\n",
       "   */\n",
       "  function render(props, node) {\n",
       "    var script = document.createElement(\"script\");\n",
       "    node.appendChild(script);\n",
       "  }\n",
       "\n",
       "  /**\n",
       "   * Handle when an output is cleared or removed\n",
       "   */\n",
       "  function handleClearOutput(event, handle) {\n",
       "    var cell = handle.cell;\n",
       "\n",
       "    var id = cell.output_area._bokeh_element_id;\n",
       "    var server_id = cell.output_area._bokeh_server_id;\n",
       "    // Clean up Bokeh references\n",
       "    if (id !== undefined) {\n",
       "      Bokeh.index[id].model.document.clear();\n",
       "      delete Bokeh.index[id];\n",
       "    }\n",
       "\n",
       "    if (server_id !== undefined) {\n",
       "      // Clean up Bokeh references\n",
       "      var cmd = \"from bokeh.io.state import curstate; print(curstate().uuid_to_server['\" + server_id + \"'].get_sessions()[0].document.roots[0]._id)\";\n",
       "      cell.notebook.kernel.execute(cmd, {\n",
       "        iopub: {\n",
       "          output: function(msg) {\n",
       "            var element_id = msg.content.text.trim();\n",
       "            Bokeh.index[element_id].model.document.clear();\n",
       "            delete Bokeh.index[element_id];\n",
       "          }\n",
       "        }\n",
       "      });\n",
       "      // Destroy server and session\n",
       "      var cmd = \"import bokeh.io.notebook as ion; ion.destroy_server('\" + server_id + \"')\";\n",
       "      cell.notebook.kernel.execute(cmd);\n",
       "    }\n",
       "  }\n",
       "\n",
       "  /**\n",
       "   * Handle when a new output is added\n",
       "   */\n",
       "  function handleAddOutput(event, handle) {\n",
       "    var output_area = handle.output_area;\n",
       "    var output = handle.output;\n",
       "\n",
       "    // limit handleAddOutput to display_data with EXEC_MIME_TYPE content only\n",
       "    if ((output.output_type != \"display_data\") || (!output.data.hasOwnProperty(EXEC_MIME_TYPE))) {\n",
       "      return\n",
       "    }\n",
       "\n",
       "    var toinsert = output_area.element.find(\".\" + CLASS_NAME.split(' ')[0]);\n",
       "\n",
       "    if (output.metadata[EXEC_MIME_TYPE][\"id\"] !== undefined) {\n",
       "      toinsert[0].firstChild.textContent = output.data[JS_MIME_TYPE];\n",
       "      // store reference to embed id on output_area\n",
       "      output_area._bokeh_element_id = output.metadata[EXEC_MIME_TYPE][\"id\"];\n",
       "    }\n",
       "    if (output.metadata[EXEC_MIME_TYPE][\"server_id\"] !== undefined) {\n",
       "      var bk_div = document.createElement(\"div\");\n",
       "      bk_div.innerHTML = output.data[HTML_MIME_TYPE];\n",
       "      var script_attrs = bk_div.children[0].attributes;\n",
       "      for (var i = 0; i < script_attrs.length; i++) {\n",
       "        toinsert[0].firstChild.setAttribute(script_attrs[i].name, script_attrs[i].value);\n",
       "      }\n",
       "      // store reference to server id on output_area\n",
       "      output_area._bokeh_server_id = output.metadata[EXEC_MIME_TYPE][\"server_id\"];\n",
       "    }\n",
       "  }\n",
       "\n",
       "  function register_renderer(events, OutputArea) {\n",
       "\n",
       "    function append_mime(data, metadata, element) {\n",
       "      // create a DOM node to render to\n",
       "      var toinsert = this.create_output_subarea(\n",
       "        metadata,\n",
       "        CLASS_NAME,\n",
       "        EXEC_MIME_TYPE\n",
       "      );\n",
       "      this.keyboard_manager.register_events(toinsert);\n",
       "      // Render to node\n",
       "      var props = {data: data, metadata: metadata[EXEC_MIME_TYPE]};\n",
       "      render(props, toinsert[0]);\n",
       "      element.append(toinsert);\n",
       "      return toinsert\n",
       "    }\n",
       "\n",
       "    /* Handle when an output is cleared or removed */\n",
       "    events.on('clear_output.CodeCell', handleClearOutput);\n",
       "    events.on('delete.Cell', handleClearOutput);\n",
       "\n",
       "    /* Handle when a new output is added */\n",
       "    events.on('output_added.OutputArea', handleAddOutput);\n",
       "\n",
       "    /**\n",
       "     * Register the mime type and append_mime function with output_area\n",
       "     */\n",
       "    OutputArea.prototype.register_mime_type(EXEC_MIME_TYPE, append_mime, {\n",
       "      /* Is output safe? */\n",
       "      safe: true,\n",
       "      /* Index of renderer in `output_area.display_order` */\n",
       "      index: 0\n",
       "    });\n",
       "  }\n",
       "\n",
       "  // register the mime type if in Jupyter Notebook environment and previously unregistered\n",
       "  if (root.Jupyter !== undefined) {\n",
       "    var events = require('base/js/events');\n",
       "    var OutputArea = require('notebook/js/outputarea').OutputArea;\n",
       "\n",
       "    if (OutputArea.prototype.mime_types().indexOf(EXEC_MIME_TYPE) == -1) {\n",
       "      register_renderer(events, OutputArea);\n",
       "    }\n",
       "  }\n",
       "\n",
       "  \n",
       "  if (typeof (root._bokeh_timeout) === \"undefined\" || force === true) {\n",
       "    root._bokeh_timeout = Date.now() + 5000;\n",
       "    root._bokeh_failed_load = false;\n",
       "  }\n",
       "\n",
       "  var NB_LOAD_WARNING = {'data': {'text/html':\n",
       "     \"<div style='background-color: #fdd'>\\n\"+\n",
       "     \"<p>\\n\"+\n",
       "     \"BokehJS does not appear to have successfully loaded. If loading BokehJS from CDN, this \\n\"+\n",
       "     \"may be due to a slow or bad network connection. Possible fixes:\\n\"+\n",
       "     \"</p>\\n\"+\n",
       "     \"<ul>\\n\"+\n",
       "     \"<li>re-rerun `output_notebook()` to attempt to load from CDN again, or</li>\\n\"+\n",
       "     \"<li>use INLINE resources instead, as so:</li>\\n\"+\n",
       "     \"</ul>\\n\"+\n",
       "     \"<code>\\n\"+\n",
       "     \"from bokeh.resources import INLINE\\n\"+\n",
       "     \"output_notebook(resources=INLINE)\\n\"+\n",
       "     \"</code>\\n\"+\n",
       "     \"</div>\"}};\n",
       "\n",
       "  function display_loaded() {\n",
       "    var el = document.getElementById(\"d37185b2-7e90-41f7-8e37-e6e3f603984e\");\n",
       "    if (el != null) {\n",
       "      el.textContent = \"BokehJS is loading...\";\n",
       "    }\n",
       "    if (root.Bokeh !== undefined) {\n",
       "      if (el != null) {\n",
       "        el.textContent = \"BokehJS \" + root.Bokeh.version + \" successfully loaded.\";\n",
       "      }\n",
       "    } else if (Date.now() < root._bokeh_timeout) {\n",
       "      setTimeout(display_loaded, 100)\n",
       "    }\n",
       "  }\n",
       "\n",
       "\n",
       "  function run_callbacks() {\n",
       "    try {\n",
       "      root._bokeh_onload_callbacks.forEach(function(callback) { callback() });\n",
       "    }\n",
       "    finally {\n",
       "      delete root._bokeh_onload_callbacks\n",
       "    }\n",
       "    console.info(\"Bokeh: all callbacks have finished\");\n",
       "  }\n",
       "\n",
       "  function load_libs(js_urls, callback) {\n",
       "    root._bokeh_onload_callbacks.push(callback);\n",
       "    if (root._bokeh_is_loading > 0) {\n",
       "      console.log(\"Bokeh: BokehJS is being loaded, scheduling callback at\", now());\n",
       "      return null;\n",
       "    }\n",
       "    if (js_urls == null || js_urls.length === 0) {\n",
       "      run_callbacks();\n",
       "      return null;\n",
       "    }\n",
       "    console.log(\"Bokeh: BokehJS not loaded, scheduling load and callback at\", now());\n",
       "    root._bokeh_is_loading = js_urls.length;\n",
       "    for (var i = 0; i < js_urls.length; i++) {\n",
       "      var url = js_urls[i];\n",
       "      var s = document.createElement('script');\n",
       "      s.src = url;\n",
       "      s.async = false;\n",
       "      s.onreadystatechange = s.onload = function() {\n",
       "        root._bokeh_is_loading--;\n",
       "        if (root._bokeh_is_loading === 0) {\n",
       "          console.log(\"Bokeh: all BokehJS libraries loaded\");\n",
       "          run_callbacks()\n",
       "        }\n",
       "      };\n",
       "      s.onerror = function() {\n",
       "        console.warn(\"failed to load library \" + url);\n",
       "      };\n",
       "      console.log(\"Bokeh: injecting script tag for BokehJS library: \", url);\n",
       "      document.getElementsByTagName(\"head\")[0].appendChild(s);\n",
       "    }\n",
       "  };var element = document.getElementById(\"d37185b2-7e90-41f7-8e37-e6e3f603984e\");\n",
       "  if (element == null) {\n",
       "    console.log(\"Bokeh: ERROR: autoload.js configured with elementid 'd37185b2-7e90-41f7-8e37-e6e3f603984e' but no matching script tag was found. \")\n",
       "    return false;\n",
       "  }\n",
       "\n",
       "  var js_urls = [\"https://cdn.pydata.org/bokeh/release/bokeh-0.12.14.min.js\", \"https://cdn.pydata.org/bokeh/release/bokeh-widgets-0.12.14.min.js\", \"https://cdn.pydata.org/bokeh/release/bokeh-tables-0.12.14.min.js\", \"https://cdn.pydata.org/bokeh/release/bokeh-gl-0.12.14.min.js\"];\n",
       "\n",
       "  var inline_js = [\n",
       "    function(Bokeh) {\n",
       "      Bokeh.set_log_level(\"info\");\n",
       "    },\n",
       "    \n",
       "    function(Bokeh) {\n",
       "      \n",
       "    },\n",
       "    function(Bokeh) {\n",
       "      console.log(\"Bokeh: injecting CSS: https://cdn.pydata.org/bokeh/release/bokeh-0.12.14.min.css\");\n",
       "      Bokeh.embed.inject_css(\"https://cdn.pydata.org/bokeh/release/bokeh-0.12.14.min.css\");\n",
       "      console.log(\"Bokeh: injecting CSS: https://cdn.pydata.org/bokeh/release/bokeh-widgets-0.12.14.min.css\");\n",
       "      Bokeh.embed.inject_css(\"https://cdn.pydata.org/bokeh/release/bokeh-widgets-0.12.14.min.css\");\n",
       "      console.log(\"Bokeh: injecting CSS: https://cdn.pydata.org/bokeh/release/bokeh-tables-0.12.14.min.css\");\n",
       "      Bokeh.embed.inject_css(\"https://cdn.pydata.org/bokeh/release/bokeh-tables-0.12.14.min.css\");\n",
       "    }\n",
       "  ];\n",
       "\n",
       "  function run_inline_js() {\n",
       "    \n",
       "    if ((root.Bokeh !== undefined) || (force === true)) {\n",
       "      for (var i = 0; i < inline_js.length; i++) {\n",
       "        inline_js[i].call(root, root.Bokeh);\n",
       "      }if (force === true) {\n",
       "        display_loaded();\n",
       "      }} else if (Date.now() < root._bokeh_timeout) {\n",
       "      setTimeout(run_inline_js, 100);\n",
       "    } else if (!root._bokeh_failed_load) {\n",
       "      console.log(\"Bokeh: BokehJS failed to load within specified timeout.\");\n",
       "      root._bokeh_failed_load = true;\n",
       "    } else if (force !== true) {\n",
       "      var cell = $(document.getElementById(\"d37185b2-7e90-41f7-8e37-e6e3f603984e\")).parents('.cell').data().cell;\n",
       "      cell.output_area.append_execute_result(NB_LOAD_WARNING)\n",
       "    }\n",
       "\n",
       "  }\n",
       "\n",
       "  if (root._bokeh_is_loading === 0) {\n",
       "    console.log(\"Bokeh: BokehJS loaded, going straight to plotting\");\n",
       "    run_inline_js();\n",
       "  } else {\n",
       "    load_libs(js_urls, function() {\n",
       "      console.log(\"Bokeh: BokehJS plotting callback run at\", now());\n",
       "      run_inline_js();\n",
       "    });\n",
       "  }\n",
       "}(window));"
      ],
      "application/vnd.bokehjs_load.v0+json": "\n(function(root) {\n  function now() {\n    return new Date();\n  }\n\n  var force = true;\n\n  if (typeof (root._bokeh_onload_callbacks) === \"undefined\" || force === true) {\n    root._bokeh_onload_callbacks = [];\n    root._bokeh_is_loading = undefined;\n  }\n\n  \n\n  \n  if (typeof (root._bokeh_timeout) === \"undefined\" || force === true) {\n    root._bokeh_timeout = Date.now() + 5000;\n    root._bokeh_failed_load = false;\n  }\n\n  var NB_LOAD_WARNING = {'data': {'text/html':\n     \"<div style='background-color: #fdd'>\\n\"+\n     \"<p>\\n\"+\n     \"BokehJS does not appear to have successfully loaded. If loading BokehJS from CDN, this \\n\"+\n     \"may be due to a slow or bad network connection. Possible fixes:\\n\"+\n     \"</p>\\n\"+\n     \"<ul>\\n\"+\n     \"<li>re-rerun `output_notebook()` to attempt to load from CDN again, or</li>\\n\"+\n     \"<li>use INLINE resources instead, as so:</li>\\n\"+\n     \"</ul>\\n\"+\n     \"<code>\\n\"+\n     \"from bokeh.resources import INLINE\\n\"+\n     \"output_notebook(resources=INLINE)\\n\"+\n     \"</code>\\n\"+\n     \"</div>\"}};\n\n  function display_loaded() {\n    var el = document.getElementById(\"d37185b2-7e90-41f7-8e37-e6e3f603984e\");\n    if (el != null) {\n      el.textContent = \"BokehJS is loading...\";\n    }\n    if (root.Bokeh !== undefined) {\n      if (el != null) {\n        el.textContent = \"BokehJS \" + root.Bokeh.version + \" successfully loaded.\";\n      }\n    } else if (Date.now() < root._bokeh_timeout) {\n      setTimeout(display_loaded, 100)\n    }\n  }\n\n\n  function run_callbacks() {\n    try {\n      root._bokeh_onload_callbacks.forEach(function(callback) { callback() });\n    }\n    finally {\n      delete root._bokeh_onload_callbacks\n    }\n    console.info(\"Bokeh: all callbacks have finished\");\n  }\n\n  function load_libs(js_urls, callback) {\n    root._bokeh_onload_callbacks.push(callback);\n    if (root._bokeh_is_loading > 0) {\n      console.log(\"Bokeh: BokehJS is being loaded, scheduling callback at\", now());\n      return null;\n    }\n    if (js_urls == null || js_urls.length === 0) {\n      run_callbacks();\n      return null;\n    }\n    console.log(\"Bokeh: BokehJS not loaded, scheduling load and callback at\", now());\n    root._bokeh_is_loading = js_urls.length;\n    for (var i = 0; i < js_urls.length; i++) {\n      var url = js_urls[i];\n      var s = document.createElement('script');\n      s.src = url;\n      s.async = false;\n      s.onreadystatechange = s.onload = function() {\n        root._bokeh_is_loading--;\n        if (root._bokeh_is_loading === 0) {\n          console.log(\"Bokeh: all BokehJS libraries loaded\");\n          run_callbacks()\n        }\n      };\n      s.onerror = function() {\n        console.warn(\"failed to load library \" + url);\n      };\n      console.log(\"Bokeh: injecting script tag for BokehJS library: \", url);\n      document.getElementsByTagName(\"head\")[0].appendChild(s);\n    }\n  };var element = document.getElementById(\"d37185b2-7e90-41f7-8e37-e6e3f603984e\");\n  if (element == null) {\n    console.log(\"Bokeh: ERROR: autoload.js configured with elementid 'd37185b2-7e90-41f7-8e37-e6e3f603984e' but no matching script tag was found. \")\n    return false;\n  }\n\n  var js_urls = [\"https://cdn.pydata.org/bokeh/release/bokeh-0.12.14.min.js\", \"https://cdn.pydata.org/bokeh/release/bokeh-widgets-0.12.14.min.js\", \"https://cdn.pydata.org/bokeh/release/bokeh-tables-0.12.14.min.js\", \"https://cdn.pydata.org/bokeh/release/bokeh-gl-0.12.14.min.js\"];\n\n  var inline_js = [\n    function(Bokeh) {\n      Bokeh.set_log_level(\"info\");\n    },\n    \n    function(Bokeh) {\n      \n    },\n    function(Bokeh) {\n      console.log(\"Bokeh: injecting CSS: https://cdn.pydata.org/bokeh/release/bokeh-0.12.14.min.css\");\n      Bokeh.embed.inject_css(\"https://cdn.pydata.org/bokeh/release/bokeh-0.12.14.min.css\");\n      console.log(\"Bokeh: injecting CSS: https://cdn.pydata.org/bokeh/release/bokeh-widgets-0.12.14.min.css\");\n      Bokeh.embed.inject_css(\"https://cdn.pydata.org/bokeh/release/bokeh-widgets-0.12.14.min.css\");\n      console.log(\"Bokeh: injecting CSS: https://cdn.pydata.org/bokeh/release/bokeh-tables-0.12.14.min.css\");\n      Bokeh.embed.inject_css(\"https://cdn.pydata.org/bokeh/release/bokeh-tables-0.12.14.min.css\");\n    }\n  ];\n\n  function run_inline_js() {\n    \n    if ((root.Bokeh !== undefined) || (force === true)) {\n      for (var i = 0; i < inline_js.length; i++) {\n        inline_js[i].call(root, root.Bokeh);\n      }if (force === true) {\n        display_loaded();\n      }} else if (Date.now() < root._bokeh_timeout) {\n      setTimeout(run_inline_js, 100);\n    } else if (!root._bokeh_failed_load) {\n      console.log(\"Bokeh: BokehJS failed to load within specified timeout.\");\n      root._bokeh_failed_load = true;\n    } else if (force !== true) {\n      var cell = $(document.getElementById(\"d37185b2-7e90-41f7-8e37-e6e3f603984e\")).parents('.cell').data().cell;\n      cell.output_area.append_execute_result(NB_LOAD_WARNING)\n    }\n\n  }\n\n  if (root._bokeh_is_loading === 0) {\n    console.log(\"Bokeh: BokehJS loaded, going straight to plotting\");\n    run_inline_js();\n  } else {\n    load_libs(js_urls, function() {\n      console.log(\"Bokeh: BokehJS plotting callback run at\", now());\n      run_inline_js();\n    });\n  }\n}(window));"
     },
     "metadata": {},
     "output_type": "display_data"
    },
    {
     "data": {
      "text/html": [
       "\n",
       "<div class=\"bk-root\">\n",
       "    <div class=\"bk-plotdiv\" id=\"3c46caeb-5576-4bfa-96d6-8e64c140b630\"></div>\n",
       "</div>"
      ]
     },
     "metadata": {},
     "output_type": "display_data"
    },
    {
     "data": {
      "application/javascript": [
       "(function(root) {\n",
       "  function embed_document(root) {\n",
       "    \n",
       "  var docs_json = {\"e32aa403-dafa-4a0e-9f1c-b95dabae3d39\":{\"roots\":{\"references\":[{\"attributes\":{\"bottom_units\":\"screen\",\"fill_alpha\":{\"value\":0.5},\"fill_color\":{\"value\":\"lightgrey\"},\"left_units\":\"screen\",\"level\":\"overlay\",\"line_alpha\":{\"value\":1.0},\"line_color\":{\"value\":\"black\"},\"line_dash\":[4,4],\"line_width\":{\"value\":2},\"plot\":null,\"render_mode\":\"css\",\"right_units\":\"screen\",\"top_units\":\"screen\"},\"id\":\"3fed0735-b4ed-42ff-942c-944d9448667d\",\"type\":\"BoxAnnotation\"},{\"attributes\":{\"base\":24,\"mantissas\":[1,2,4,6,8,12],\"max_interval\":43200000.0,\"min_interval\":3600000.0,\"num_minor_ticks\":0},\"id\":\"84bb7086-bab3-4413-96ac-fe2a0fb47b34\",\"type\":\"AdaptiveTicker\"},{\"attributes\":{\"line_color\":\"#ff7f0e\",\"x\":{\"field\":\"index\"},\"y\":{\"field\":\"smooth\"}},\"id\":\"fdbab3be-d4c1-4994-8ace-d5927de8b773\",\"type\":\"Line\"},{\"attributes\":{\"overlay\":{\"id\":\"3fed0735-b4ed-42ff-942c-944d9448667d\",\"type\":\"BoxAnnotation\"}},\"id\":\"e13bd375-e866-4cb7-9249-84997628b643\",\"type\":\"BoxZoomTool\"},{\"attributes\":{\"source\":{\"id\":\"0891e89c-bd62-46ac-a2c6-a3ffc24d7582\",\"type\":\"ColumnDataSource\"}},\"id\":\"1c365aeb-9f13-470e-af2f-965f7902d795\",\"type\":\"CDSView\"},{\"attributes\":{\"dimension\":1,\"plot\":{\"id\":\"b5656e06-cd83-46ee-9e83-645830a297c3\",\"subtype\":\"Figure\",\"type\":\"Plot\"},\"ticker\":{\"id\":\"f8ae87f4-0dfe-43d7-8015-3c94908c26c6\",\"type\":\"BasicTicker\"}},\"id\":\"a2af2ee0-122f-4abe-83a7-da556f0e3c35\",\"type\":\"Grid\"},{\"attributes\":{},\"id\":\"7cd50819-632e-46fc-9ad8-b6639a32109f\",\"type\":\"SaveTool\"},{\"attributes\":{\"callback\":null},\"id\":\"ffd394a9-6a8f-4b69-a4c4-403262b82680\",\"type\":\"DataRange1d\"},{\"attributes\":{\"days\":[1,2,3,4,5,6,7,8,9,10,11,12,13,14,15,16,17,18,19,20,21,22,23,24,25,26,27,28,29,30,31]},\"id\":\"9c1d4732-3f66-4ff6-a0ae-8473f0024fd1\",\"type\":\"DaysTicker\"},{\"attributes\":{},\"id\":\"4df7a30e-3d54-4fc3-ad3c-aa4d061bbc86\",\"type\":\"HelpTool\"},{\"attributes\":{},\"id\":\"2df19bac-bf18-4bcc-848c-643bfe0e2d0c\",\"type\":\"DatetimeTickFormatter\"},{\"attributes\":{\"line_color\":\"#2ca02c\",\"x\":{\"field\":\"index\"},\"y\":{\"field\":\"very-smooth\"}},\"id\":\"4a07f621-2ca8-4b6c-81a5-39acf7e8e053\",\"type\":\"Line\"},{\"attributes\":{},\"id\":\"25ed46cf-8df4-4d3f-ac37-f6a3ad2d71cd\",\"type\":\"YearsTicker\"},{\"attributes\":{\"days\":[1,8,15,22]},\"id\":\"ebe28ec7-7237-4dc8-80c6-f855513b5b43\",\"type\":\"DaysTicker\"},{\"attributes\":{\"data_source\":{\"id\":\"0891e89c-bd62-46ac-a2c6-a3ffc24d7582\",\"type\":\"ColumnDataSource\"},\"glyph\":{\"id\":\"4a07f621-2ca8-4b6c-81a5-39acf7e8e053\",\"type\":\"Line\"},\"hover_glyph\":null,\"muted_glyph\":null,\"nonselection_glyph\":{\"id\":\"d9f8352e-47fc-41dc-94ca-4a2583d8851d\",\"type\":\"Line\"},\"selection_glyph\":null,\"view\":{\"id\":\"89ebf7da-e4ca-4e0c-88ce-814dad62c844\",\"type\":\"CDSView\"}},\"id\":\"be1f03dc-6c64-4340-ab34-cda0ed0e8a35\",\"type\":\"GlyphRenderer\"},{\"attributes\":{\"line_alpha\":0.1,\"line_color\":\"#1f77b4\",\"x\":{\"field\":\"index\"},\"y\":{\"field\":\"raw\"}},\"id\":\"4aee239e-f542-4beb-a530-f88e94fe3c2a\",\"type\":\"Line\"},{\"attributes\":{\"days\":[1,15]},\"id\":\"ad255cf8-678a-4881-85e4-c48e8d6d0227\",\"type\":\"DaysTicker\"},{\"attributes\":{},\"id\":\"c36b461b-5bb1-4c68-9777-8698072df69e\",\"type\":\"ResetTool\"},{\"attributes\":{\"callback\":null},\"id\":\"1b8f9b49-e3c3-4443-8660-122b7847c4aa\",\"type\":\"DataRange1d\"},{\"attributes\":{\"plot\":{\"id\":\"b5656e06-cd83-46ee-9e83-645830a297c3\",\"subtype\":\"Figure\",\"type\":\"Plot\"},\"ticker\":{\"id\":\"22a3227b-e427-480c-9e9c-23dd6f6663b6\",\"type\":\"DatetimeTicker\"}},\"id\":\"93fb2f32-f501-441f-92bf-b0c7f0e0cc12\",\"type\":\"Grid\"},{\"attributes\":{\"data_source\":{\"id\":\"0891e89c-bd62-46ac-a2c6-a3ffc24d7582\",\"type\":\"ColumnDataSource\"},\"glyph\":{\"id\":\"6db4892a-5b7b-40a8-99f9-0ecdad939ea8\",\"type\":\"Line\"},\"hover_glyph\":null,\"muted_glyph\":null,\"nonselection_glyph\":{\"id\":\"4aee239e-f542-4beb-a530-f88e94fe3c2a\",\"type\":\"Line\"},\"selection_glyph\":null,\"view\":{\"id\":\"916d2523-0f18-4cc8-b02d-b8f2a1a03f4f\",\"type\":\"CDSView\"}},\"id\":\"c3887478-85cb-4616-8f86-3c062ee29f03\",\"type\":\"GlyphRenderer\"},{\"attributes\":{\"months\":[0,4,8]},\"id\":\"2b3f958b-95be-4fcb-9c0b-5b3b0e691807\",\"type\":\"MonthsTicker\"},{\"attributes\":{\"formatter\":{\"id\":\"10e06b62-99b9-476b-b811-abfaa3b8f6e8\",\"type\":\"BasicTickFormatter\"},\"plot\":{\"id\":\"b5656e06-cd83-46ee-9e83-645830a297c3\",\"subtype\":\"Figure\",\"type\":\"Plot\"},\"ticker\":{\"id\":\"f8ae87f4-0dfe-43d7-8015-3c94908c26c6\",\"type\":\"BasicTicker\"}},\"id\":\"9ac0a658-1aad-46cc-b8a1-e13c015bb417\",\"type\":\"LinearAxis\"},{\"attributes\":{\"line_alpha\":0.1,\"line_color\":\"#1f77b4\",\"x\":{\"field\":\"index\"},\"y\":{\"field\":\"smooth\"}},\"id\":\"8ae1e1b1-7c02-492a-9b4d-faaacbe68005\",\"type\":\"Line\"},{\"attributes\":{\"label\":{\"value\":\"raw\"},\"renderers\":[{\"id\":\"c3887478-85cb-4616-8f86-3c062ee29f03\",\"type\":\"GlyphRenderer\"}]},\"id\":\"4998ba71-469f-4bb1-949d-94ee1fb7e4f0\",\"type\":\"LegendItem\"},{\"attributes\":{\"mantissas\":[1,2,5],\"max_interval\":500.0,\"num_minor_ticks\":0},\"id\":\"c2ff440e-dd81-4bc6-93d8-25ea3285abff\",\"type\":\"AdaptiveTicker\"},{\"attributes\":{\"days\":[1,4,7,10,13,16,19,22,25,28]},\"id\":\"3126d94b-b206-4cb5-896c-04ffc165a6dd\",\"type\":\"DaysTicker\"},{\"attributes\":{\"num_minor_ticks\":5,\"tickers\":[{\"id\":\"c2ff440e-dd81-4bc6-93d8-25ea3285abff\",\"type\":\"AdaptiveTicker\"},{\"id\":\"bb234f03-bbe5-4228-abe4-5d51f49958f4\",\"type\":\"AdaptiveTicker\"},{\"id\":\"84bb7086-bab3-4413-96ac-fe2a0fb47b34\",\"type\":\"AdaptiveTicker\"},{\"id\":\"9c1d4732-3f66-4ff6-a0ae-8473f0024fd1\",\"type\":\"DaysTicker\"},{\"id\":\"3126d94b-b206-4cb5-896c-04ffc165a6dd\",\"type\":\"DaysTicker\"},{\"id\":\"ebe28ec7-7237-4dc8-80c6-f855513b5b43\",\"type\":\"DaysTicker\"},{\"id\":\"ad255cf8-678a-4881-85e4-c48e8d6d0227\",\"type\":\"DaysTicker\"},{\"id\":\"cbf7af5a-2410-4acf-a607-5a8a1e951c91\",\"type\":\"MonthsTicker\"},{\"id\":\"396a2ebe-8772-4e9f-ae8f-35de185fd2dd\",\"type\":\"MonthsTicker\"},{\"id\":\"2b3f958b-95be-4fcb-9c0b-5b3b0e691807\",\"type\":\"MonthsTicker\"},{\"id\":\"722f19dd-3039-45d6-8465-7bd0ffd20809\",\"type\":\"MonthsTicker\"},{\"id\":\"25ed46cf-8df4-4d3f-ac37-f6a3ad2d71cd\",\"type\":\"YearsTicker\"}]},\"id\":\"22a3227b-e427-480c-9e9c-23dd6f6663b6\",\"type\":\"DatetimeTicker\"},{\"attributes\":{\"months\":[0,1,2,3,4,5,6,7,8,9,10,11]},\"id\":\"cbf7af5a-2410-4acf-a607-5a8a1e951c91\",\"type\":\"MonthsTicker\"},{\"attributes\":{\"label\":{\"value\":\"smooth\"},\"renderers\":[{\"id\":\"cc1c3865-230f-4747-adf5-3e2834790df9\",\"type\":\"GlyphRenderer\"}]},\"id\":\"279e4265-6f8e-48ae-b771-86ede85fa3dd\",\"type\":\"LegendItem\"},{\"attributes\":{\"below\":[{\"id\":\"3fe7cac7-4199-41bb-a3df-d77ff9ce49e2\",\"type\":\"DatetimeAxis\"}],\"left\":[{\"id\":\"9ac0a658-1aad-46cc-b8a1-e13c015bb417\",\"type\":\"LinearAxis\"}],\"min_border_bottom\":30,\"min_border_left\":30,\"plot_height\":300,\"plot_width\":700,\"renderers\":[{\"id\":\"3fe7cac7-4199-41bb-a3df-d77ff9ce49e2\",\"type\":\"DatetimeAxis\"},{\"id\":\"93fb2f32-f501-441f-92bf-b0c7f0e0cc12\",\"type\":\"Grid\"},{\"id\":\"9ac0a658-1aad-46cc-b8a1-e13c015bb417\",\"type\":\"LinearAxis\"},{\"id\":\"a2af2ee0-122f-4abe-83a7-da556f0e3c35\",\"type\":\"Grid\"},{\"id\":\"3fed0735-b4ed-42ff-942c-944d9448667d\",\"type\":\"BoxAnnotation\"},{\"id\":\"c2b27434-4bb0-4920-9a0b-dd850a48c0cb\",\"type\":\"Legend\"},{\"id\":\"c3887478-85cb-4616-8f86-3c062ee29f03\",\"type\":\"GlyphRenderer\"},{\"id\":\"cc1c3865-230f-4747-adf5-3e2834790df9\",\"type\":\"GlyphRenderer\"},{\"id\":\"be1f03dc-6c64-4340-ab34-cda0ed0e8a35\",\"type\":\"GlyphRenderer\"}],\"title\":{\"id\":\"5ed305e9-afc7-4cef-ad2a-5cfc55f679bd\",\"type\":\"Title\"},\"toolbar\":{\"id\":\"7b9cbfc0-ca57-447b-b79d-8aef73ad5e2f\",\"type\":\"Toolbar\"},\"x_range\":{\"id\":\"1b8f9b49-e3c3-4443-8660-122b7847c4aa\",\"type\":\"DataRange1d\"},\"x_scale\":{\"id\":\"b2458d2c-c68c-4cc0-a34d-c1f329eaaf50\",\"type\":\"LinearScale\"},\"y_range\":{\"id\":\"ffd394a9-6a8f-4b69-a4c4-403262b82680\",\"type\":\"DataRange1d\"},\"y_scale\":{\"id\":\"153fe61c-5fac-48c7-bd9d-1b3ec953331e\",\"type\":\"LinearScale\"}},\"id\":\"b5656e06-cd83-46ee-9e83-645830a297c3\",\"subtype\":\"Figure\",\"type\":\"Plot\"},{\"attributes\":{\"source\":{\"id\":\"0891e89c-bd62-46ac-a2c6-a3ffc24d7582\",\"type\":\"ColumnDataSource\"}},\"id\":\"916d2523-0f18-4cc8-b02d-b8f2a1a03f4f\",\"type\":\"CDSView\"},{\"attributes\":{},\"id\":\"10e06b62-99b9-476b-b811-abfaa3b8f6e8\",\"type\":\"BasicTickFormatter\"},{\"attributes\":{\"months\":[0,2,4,6,8,10]},\"id\":\"396a2ebe-8772-4e9f-ae8f-35de185fd2dd\",\"type\":\"MonthsTicker\"},{\"attributes\":{},\"id\":\"755e8d63-778f-45a8-b0d9-8975e9ede7f7\",\"type\":\"PanTool\"},{\"attributes\":{\"click_policy\":\"hide\",\"items\":[{\"id\":\"4998ba71-469f-4bb1-949d-94ee1fb7e4f0\",\"type\":\"LegendItem\"},{\"id\":\"279e4265-6f8e-48ae-b771-86ede85fa3dd\",\"type\":\"LegendItem\"},{\"id\":\"5a304a16-6d04-4595-bea4-c2b35e41ff52\",\"type\":\"LegendItem\"}],\"plot\":{\"id\":\"b5656e06-cd83-46ee-9e83-645830a297c3\",\"subtype\":\"Figure\",\"type\":\"Plot\"}},\"id\":\"c2b27434-4bb0-4920-9a0b-dd850a48c0cb\",\"type\":\"Legend\"},{\"attributes\":{\"months\":[0,6]},\"id\":\"722f19dd-3039-45d6-8465-7bd0ffd20809\",\"type\":\"MonthsTicker\"},{\"attributes\":{\"callback\":null,\"column_names\":[\"raw\",\"smooth\",\"very-smooth\",\"index\"],\"data\":{\"index\":[],\"raw\":[],\"smooth\":[],\"very-smooth\":[]}},\"id\":\"0891e89c-bd62-46ac-a2c6-a3ffc24d7582\",\"type\":\"ColumnDataSource\"},{\"attributes\":{\"source\":{\"id\":\"0891e89c-bd62-46ac-a2c6-a3ffc24d7582\",\"type\":\"ColumnDataSource\"}},\"id\":\"89ebf7da-e4ca-4e0c-88ce-814dad62c844\",\"type\":\"CDSView\"},{\"attributes\":{\"label\":{\"value\":\"very-smooth\"},\"renderers\":[{\"id\":\"be1f03dc-6c64-4340-ab34-cda0ed0e8a35\",\"type\":\"GlyphRenderer\"}]},\"id\":\"5a304a16-6d04-4595-bea4-c2b35e41ff52\",\"type\":\"LegendItem\"},{\"attributes\":{\"line_color\":\"#1f77b4\",\"x\":{\"field\":\"index\"},\"y\":{\"field\":\"raw\"}},\"id\":\"6db4892a-5b7b-40a8-99f9-0ecdad939ea8\",\"type\":\"Line\"},{\"attributes\":{\"line_alpha\":0.1,\"line_color\":\"#1f77b4\",\"x\":{\"field\":\"index\"},\"y\":{\"field\":\"very-smooth\"}},\"id\":\"d9f8352e-47fc-41dc-94ca-4a2583d8851d\",\"type\":\"Line\"},{\"attributes\":{},\"id\":\"b2458d2c-c68c-4cc0-a34d-c1f329eaaf50\",\"type\":\"LinearScale\"},{\"attributes\":{\"formatter\":{\"id\":\"2df19bac-bf18-4bcc-848c-643bfe0e2d0c\",\"type\":\"DatetimeTickFormatter\"},\"plot\":{\"id\":\"b5656e06-cd83-46ee-9e83-645830a297c3\",\"subtype\":\"Figure\",\"type\":\"Plot\"},\"ticker\":{\"id\":\"22a3227b-e427-480c-9e9c-23dd6f6663b6\",\"type\":\"DatetimeTicker\"}},\"id\":\"3fe7cac7-4199-41bb-a3df-d77ff9ce49e2\",\"type\":\"DatetimeAxis\"},{\"attributes\":{},\"id\":\"153fe61c-5fac-48c7-bd9d-1b3ec953331e\",\"type\":\"LinearScale\"},{\"attributes\":{},\"id\":\"613440c9-3e87-45ca-81ee-09df5bbed513\",\"type\":\"WheelZoomTool\"},{\"attributes\":{\"plot\":null,\"text\":\"\"},\"id\":\"5ed305e9-afc7-4cef-ad2a-5cfc55f679bd\",\"type\":\"Title\"},{\"attributes\":{\"active_drag\":\"auto\",\"active_inspect\":\"auto\",\"active_scroll\":\"auto\",\"active_tap\":\"auto\",\"tools\":[{\"id\":\"755e8d63-778f-45a8-b0d9-8975e9ede7f7\",\"type\":\"PanTool\"},{\"id\":\"613440c9-3e87-45ca-81ee-09df5bbed513\",\"type\":\"WheelZoomTool\"},{\"id\":\"e13bd375-e866-4cb7-9249-84997628b643\",\"type\":\"BoxZoomTool\"},{\"id\":\"7cd50819-632e-46fc-9ad8-b6639a32109f\",\"type\":\"SaveTool\"},{\"id\":\"c36b461b-5bb1-4c68-9777-8698072df69e\",\"type\":\"ResetTool\"},{\"id\":\"4df7a30e-3d54-4fc3-ad3c-aa4d061bbc86\",\"type\":\"HelpTool\"}]},\"id\":\"7b9cbfc0-ca57-447b-b79d-8aef73ad5e2f\",\"type\":\"Toolbar\"},{\"attributes\":{\"base\":60,\"mantissas\":[1,2,5,10,15,20,30],\"max_interval\":1800000.0,\"min_interval\":1000.0,\"num_minor_ticks\":0},\"id\":\"bb234f03-bbe5-4228-abe4-5d51f49958f4\",\"type\":\"AdaptiveTicker\"},{\"attributes\":{\"data_source\":{\"id\":\"0891e89c-bd62-46ac-a2c6-a3ffc24d7582\",\"type\":\"ColumnDataSource\"},\"glyph\":{\"id\":\"fdbab3be-d4c1-4994-8ace-d5927de8b773\",\"type\":\"Line\"},\"hover_glyph\":null,\"muted_glyph\":null,\"nonselection_glyph\":{\"id\":\"8ae1e1b1-7c02-492a-9b4d-faaacbe68005\",\"type\":\"Line\"},\"selection_glyph\":null,\"view\":{\"id\":\"1c365aeb-9f13-470e-af2f-965f7902d795\",\"type\":\"CDSView\"}},\"id\":\"cc1c3865-230f-4747-adf5-3e2834790df9\",\"type\":\"GlyphRenderer\"},{\"attributes\":{},\"id\":\"f8ae87f4-0dfe-43d7-8015-3c94908c26c6\",\"type\":\"BasicTicker\"}],\"root_ids\":[\"b5656e06-cd83-46ee-9e83-645830a297c3\"]},\"title\":\"Bokeh Application\",\"version\":\"0.12.14\"}};\n",
       "  var render_items = [{\"docid\":\"e32aa403-dafa-4a0e-9f1c-b95dabae3d39\",\"elementid\":\"3c46caeb-5576-4bfa-96d6-8e64c140b630\",\"modelid\":\"b5656e06-cd83-46ee-9e83-645830a297c3\",\"notebook_comms_target\":\"566940aa-2c5c-4ff5-8ea1-402620a06144\"}];\n",
       "  root.Bokeh.embed.embed_items_notebook(docs_json, render_items);\n",
       "\n",
       "  }\n",
       "  if (root.Bokeh !== undefined) {\n",
       "    embed_document(root);\n",
       "  } else {\n",
       "    var attempts = 0;\n",
       "    var timer = setInterval(function(root) {\n",
       "      if (root.Bokeh !== undefined) {\n",
       "        embed_document(root);\n",
       "        clearInterval(timer);\n",
       "      }\n",
       "      attempts++;\n",
       "      if (attempts > 100) {\n",
       "        console.log(\"Bokeh: ERROR: Unable to run BokehJS code because BokehJS library is missing\")\n",
       "        clearInterval(timer);\n",
       "      }\n",
       "    }, 10, root)\n",
       "  }\n",
       "})(window);"
      ],
      "application/vnd.bokehjs_exec.v0+json": ""
     },
     "metadata": {
      "application/vnd.bokehjs_exec.v0+json": {
       "id": "b5656e06-cd83-46ee-9e83-645830a297c3"
      }
     },
     "output_type": "display_data"
    }
   ],
   "source": [
    "p = (DataFrame({'raw': sdf.x,\n",
    "                'smooth': sdf.x.rolling('1s').mean(),\n",
    "                'very-smooth': sdf.x.rolling('500ms').mean()})\n",
    "     .plot(width=700)\n",
    "    )"
   ]
  },
  {
   "cell_type": "code",
   "execution_count": null,
   "metadata": {},
   "outputs": [],
   "source": []
  }
 ],
 "metadata": {
  "anaconda-cloud": {},
  "kernelspec": {
   "display_name": "Python 3",
   "language": "python",
   "name": "python3"
  },
  "language_info": {
   "codemirror_mode": {
    "name": "ipython",
    "version": 3
   },
   "file_extension": ".py",
   "mimetype": "text/x-python",
   "name": "python",
   "nbconvert_exporter": "python",
   "pygments_lexer": "ipython3",
   "version": "3.6.4"
  },
  "nbpresent": {
   "slides": {
    "37e4d0ec-d2cf-4bbb-8cba-8ae795eaa879": {
     "id": "37e4d0ec-d2cf-4bbb-8cba-8ae795eaa879",
     "prev": "aee684c3-0c8a-4b13-a8fe-0d9175d0d44c",
     "regions": {
      "ca54bd60-f98a-4821-80fb-b03c26bb59db": {
       "attrs": {
        "height": 0.8,
        "width": 0.8,
        "x": 0.1,
        "y": 0.1
       },
       "content": {
        "cell": "15e44c67-6ef1-4c4f-86f8-30f027db983a",
        "part": "whole"
       },
       "id": "ca54bd60-f98a-4821-80fb-b03c26bb59db"
      }
     }
    },
    "4bf5267a-bd27-4d8d-800f-7c6b0628cc1d": {
     "id": "4bf5267a-bd27-4d8d-800f-7c6b0628cc1d",
     "prev": "da9a1fd1-a552-48f2-add9-589ed4e43a3b",
     "regions": {
      "f55b8623-a608-4e01-825b-ac2cb7ae47dc": {
       "attrs": {
        "height": 0.8,
        "width": 0.8,
        "x": 0.1,
        "y": 0.1
       },
       "content": {
        "cell": "558549b9-1a87-46be-be4a-3d47739e0bf1",
        "part": "whole"
       },
       "id": "f55b8623-a608-4e01-825b-ac2cb7ae47dc"
      }
     }
    },
    "4e3258b1-cf51-4057-abb7-97f30b50d8e2": {
     "id": "4e3258b1-cf51-4057-abb7-97f30b50d8e2",
     "prev": "f5f4e02f-362d-4187-b0e7-6cb3653b5ca6",
     "regions": {
      "ba8da882-4e9b-441a-b082-793a0282431e": {
       "attrs": {
        "height": 0.8,
        "width": 0.8,
        "x": 0.1,
        "y": 0.1
       },
       "content": {
        "cell": "32093094-517b-4666-9fe9-f0a9acf1dab3",
        "part": "whole"
       },
       "id": "ba8da882-4e9b-441a-b082-793a0282431e"
      }
     }
    },
    "84560d21-7366-45ae-b0b4-b5cc8bf60fe2": {
     "id": "84560d21-7366-45ae-b0b4-b5cc8bf60fe2",
     "prev": null,
     "regions": {
      "d8bed947-6e73-4fc4-9a3c-07c915fe1385": {
       "attrs": {
        "height": 0.8,
        "width": 0.8,
        "x": 0.1,
        "y": 0.1
       },
       "content": {
        "cell": "986a2d15-a2a5-4bbb-af9b-20cd6c76a441",
        "part": "whole"
       },
       "id": "d8bed947-6e73-4fc4-9a3c-07c915fe1385"
      }
     }
    },
    "98c47e7d-b1ab-4000-9ddf-e53d4067fcf6": {
     "id": "98c47e7d-b1ab-4000-9ddf-e53d4067fcf6",
     "prev": "f974ab1e-9fa4-4473-a336-548005360be6",
     "regions": {
      "dc99ee74-5391-4de1-a13b-bba4dd092980": {
       "attrs": {
        "height": 0.8,
        "width": 0.8,
        "x": 0.1,
        "y": 0.1
       },
       "content": {
        "cell": "9f695d4d-e1eb-4e3b-8b8c-af07b8f401b5",
        "part": "whole"
       },
       "id": "dc99ee74-5391-4de1-a13b-bba4dd092980"
      }
     }
    },
    "aee684c3-0c8a-4b13-a8fe-0d9175d0d44c": {
     "id": "aee684c3-0c8a-4b13-a8fe-0d9175d0d44c",
     "prev": "4bf5267a-bd27-4d8d-800f-7c6b0628cc1d",
     "regions": {
      "fc94d3f1-2d7d-469c-9d1b-10fc110bba92": {
       "attrs": {
        "height": 0.8,
        "width": 0.8,
        "x": 0.1,
        "y": 0.1
       },
       "content": {
        "cell": "2f4f9d00-ed97-4263-a199-a32da9a5d876",
        "part": "whole"
       },
       "id": "fc94d3f1-2d7d-469c-9d1b-10fc110bba92"
      }
     }
    },
    "da9a1fd1-a552-48f2-add9-589ed4e43a3b": {
     "id": "da9a1fd1-a552-48f2-add9-589ed4e43a3b",
     "prev": "fcec8ef5-c7a9-43a1-a779-9c6174d982ec",
     "regions": {
      "94377729-1273-4672-8c4b-f7688d852319": {
       "attrs": {
        "height": 0.8,
        "width": 0.8,
        "x": 0.1,
        "y": 0.1
       },
       "content": {
        "cell": "448d0711-23be-4d3c-b787-965895d9202a",
        "part": "whole"
       },
       "id": "94377729-1273-4672-8c4b-f7688d852319"
      }
     }
    },
    "f5f4e02f-362d-4187-b0e7-6cb3653b5ca6": {
     "id": "f5f4e02f-362d-4187-b0e7-6cb3653b5ca6",
     "prev": "98c47e7d-b1ab-4000-9ddf-e53d4067fcf6",
     "regions": {
      "eb0b6dbb-dcc4-49dd-bae2-85a06e26459f": {
       "attrs": {
        "height": 0.8,
        "width": 0.8,
        "x": 0.1,
        "y": 0.1
       },
       "content": {
        "cell": "3618ecd7-86fe-4327-b0c9-8a137e9baadb",
        "part": "whole"
       },
       "id": "eb0b6dbb-dcc4-49dd-bae2-85a06e26459f"
      }
     }
    },
    "f974ab1e-9fa4-4473-a336-548005360be6": {
     "id": "f974ab1e-9fa4-4473-a336-548005360be6",
     "prev": "84560d21-7366-45ae-b0b4-b5cc8bf60fe2",
     "regions": {
      "10781f7a-edad-4f45-976f-cf955514e470": {
       "attrs": {
        "height": 0.8,
        "width": 0.8,
        "x": 0.1,
        "y": 0.1
       },
       "content": {
        "cell": "a5b35435-a169-4eb8-a220-6a057a984995",
        "part": "whole"
       },
       "id": "10781f7a-edad-4f45-976f-cf955514e470"
      }
     }
    },
    "fcec8ef5-c7a9-43a1-a779-9c6174d982ec": {
     "id": "fcec8ef5-c7a9-43a1-a779-9c6174d982ec",
     "prev": "4e3258b1-cf51-4057-abb7-97f30b50d8e2",
     "regions": {
      "65151472-3214-41a7-8908-b5dd9cd9d4cb": {
       "attrs": {
        "height": 0.8,
        "width": 0.8,
        "x": 0.1,
        "y": 0.1
       },
       "content": {
        "cell": "340464ba-040d-4e76-ad3f-37a43b508cb8",
        "part": "whole"
       },
       "id": "65151472-3214-41a7-8908-b5dd9cd9d4cb"
      }
     }
    }
   },
   "themes": {}
  }
 },
 "nbformat": 4,
 "nbformat_minor": 2
}
